{
 "cells": [
  {
   "cell_type": "markdown",
   "id": "38372c74-a370-4ea7-8952-c36acb46761c",
   "metadata": {},
   "source": [
    "# Count Vectorizer"
   ]
  },
  {
   "cell_type": "code",
   "execution_count": 1,
   "id": "7cb35086-e8b6-474a-8784-fc14d04522d7",
   "metadata": {},
   "outputs": [],
   "source": [
    "import pandas as pd"
   ]
  },
  {
   "cell_type": "code",
   "execution_count": 5,
   "id": "1acacef5-ef59-4341-a644-248fe6fb9bbd",
   "metadata": {},
   "outputs": [
    {
     "data": {
      "text/plain": [
       "0                    life lemon lemonade\n",
       "1                     lemon maven market\n",
       "2            dozen lemon gallon lemonade\n",
       "3    lemon lemon lemon lemon lemon lemon\n",
       "4              s market lemon sale today\n",
       "5        maven market eureka lemon lemon\n",
       "6           palmer lemonade half ice tea\n",
       "7                       ice tea favorite\n",
       "Name: sentence, dtype: object"
      ]
     },
     "execution_count": 5,
     "metadata": {},
     "output_type": "execute_result"
    }
   ],
   "source": [
    "series = pd.read_pickle(\"textClean.pkl\")\n",
    "series"
   ]
  },
  {
   "cell_type": "markdown",
   "id": "f1f68fe9-db87-48ab-9215-f287eaeba9f2",
   "metadata": {},
   "source": [
    "Clean, normalized text is turned into a **Document-Term Matrix (DTM)** for vectorization.<br>\n",
    "* Each row represents a document, and each column represents a term.\n",
    "* The values within the DTM can be word counts, TF-IDF scores, or other calculated values."
   ]
  },
  {
   "cell_type": "code",
   "execution_count": 3,
   "id": "85291123-392c-43c3-bd5d-dd246a9e0668",
   "metadata": {},
   "outputs": [],
   "source": [
    "from sklearn.feature_extraction.text import CountVectorizer"
   ]
  },
  {
   "cell_type": "code",
   "execution_count": 18,
   "id": "2d67729f-14c0-413f-ae00-8dbd7ee0560a",
   "metadata": {},
   "outputs": [],
   "source": [
    "cv = CountVectorizer(stop_words=\"english\", ngram_range=(1, 2), min_df=.2, max_df=.8)"
   ]
  },
  {
   "cell_type": "code",
   "execution_count": 19,
   "id": "5473677b-d370-406e-88ca-765e4679364d",
   "metadata": {},
   "outputs": [
    {
     "data": {
      "text/html": [
       "<div>\n",
       "<style scoped>\n",
       "    .dataframe tbody tr th:only-of-type {\n",
       "        vertical-align: middle;\n",
       "    }\n",
       "\n",
       "    .dataframe tbody tr th {\n",
       "        vertical-align: top;\n",
       "    }\n",
       "\n",
       "    .dataframe thead th {\n",
       "        text-align: right;\n",
       "    }\n",
       "</style>\n",
       "<table border=\"1\" class=\"dataframe\">\n",
       "  <thead>\n",
       "    <tr style=\"text-align: right;\">\n",
       "      <th></th>\n",
       "      <th>ice</th>\n",
       "      <th>ice tea</th>\n",
       "      <th>lemon</th>\n",
       "      <th>lemon lemon</th>\n",
       "      <th>lemonade</th>\n",
       "      <th>market</th>\n",
       "      <th>maven</th>\n",
       "      <th>maven market</th>\n",
       "      <th>tea</th>\n",
       "    </tr>\n",
       "  </thead>\n",
       "  <tbody>\n",
       "    <tr>\n",
       "      <th>0</th>\n",
       "      <td>0</td>\n",
       "      <td>0</td>\n",
       "      <td>1</td>\n",
       "      <td>0</td>\n",
       "      <td>1</td>\n",
       "      <td>0</td>\n",
       "      <td>0</td>\n",
       "      <td>0</td>\n",
       "      <td>0</td>\n",
       "    </tr>\n",
       "    <tr>\n",
       "      <th>1</th>\n",
       "      <td>0</td>\n",
       "      <td>0</td>\n",
       "      <td>1</td>\n",
       "      <td>0</td>\n",
       "      <td>0</td>\n",
       "      <td>1</td>\n",
       "      <td>1</td>\n",
       "      <td>1</td>\n",
       "      <td>0</td>\n",
       "    </tr>\n",
       "    <tr>\n",
       "      <th>2</th>\n",
       "      <td>0</td>\n",
       "      <td>0</td>\n",
       "      <td>1</td>\n",
       "      <td>0</td>\n",
       "      <td>1</td>\n",
       "      <td>0</td>\n",
       "      <td>0</td>\n",
       "      <td>0</td>\n",
       "      <td>0</td>\n",
       "    </tr>\n",
       "    <tr>\n",
       "      <th>3</th>\n",
       "      <td>0</td>\n",
       "      <td>0</td>\n",
       "      <td>6</td>\n",
       "      <td>5</td>\n",
       "      <td>0</td>\n",
       "      <td>0</td>\n",
       "      <td>0</td>\n",
       "      <td>0</td>\n",
       "      <td>0</td>\n",
       "    </tr>\n",
       "    <tr>\n",
       "      <th>4</th>\n",
       "      <td>0</td>\n",
       "      <td>0</td>\n",
       "      <td>1</td>\n",
       "      <td>0</td>\n",
       "      <td>0</td>\n",
       "      <td>1</td>\n",
       "      <td>0</td>\n",
       "      <td>0</td>\n",
       "      <td>0</td>\n",
       "    </tr>\n",
       "    <tr>\n",
       "      <th>5</th>\n",
       "      <td>0</td>\n",
       "      <td>0</td>\n",
       "      <td>2</td>\n",
       "      <td>1</td>\n",
       "      <td>0</td>\n",
       "      <td>1</td>\n",
       "      <td>1</td>\n",
       "      <td>1</td>\n",
       "      <td>0</td>\n",
       "    </tr>\n",
       "    <tr>\n",
       "      <th>6</th>\n",
       "      <td>1</td>\n",
       "      <td>1</td>\n",
       "      <td>0</td>\n",
       "      <td>0</td>\n",
       "      <td>1</td>\n",
       "      <td>0</td>\n",
       "      <td>0</td>\n",
       "      <td>0</td>\n",
       "      <td>1</td>\n",
       "    </tr>\n",
       "    <tr>\n",
       "      <th>7</th>\n",
       "      <td>1</td>\n",
       "      <td>1</td>\n",
       "      <td>0</td>\n",
       "      <td>0</td>\n",
       "      <td>0</td>\n",
       "      <td>0</td>\n",
       "      <td>0</td>\n",
       "      <td>0</td>\n",
       "      <td>1</td>\n",
       "    </tr>\n",
       "  </tbody>\n",
       "</table>\n",
       "</div>"
      ],
      "text/plain": [
       "   ice  ice tea  lemon  lemon lemon  lemonade  market  maven  maven market  \\\n",
       "0    0        0      1            0         1       0      0             0   \n",
       "1    0        0      1            0         0       1      1             1   \n",
       "2    0        0      1            0         1       0      0             0   \n",
       "3    0        0      6            5         0       0      0             0   \n",
       "4    0        0      1            0         0       1      0             0   \n",
       "5    0        0      2            1         0       1      1             1   \n",
       "6    1        1      0            0         1       0      0             0   \n",
       "7    1        1      0            0         0       0      0             0   \n",
       "\n",
       "   tea  \n",
       "0    0  \n",
       "1    0  \n",
       "2    0  \n",
       "3    0  \n",
       "4    0  \n",
       "5    0  \n",
       "6    1  \n",
       "7    1  "
      ]
     },
     "execution_count": 19,
     "metadata": {},
     "output_type": "execute_result"
    }
   ],
   "source": [
    "dtm = cv.fit_transform(series)\n",
    "dtmDf = pd.DataFrame(dtm.toarray(), columns=cv.get_feature_names_out())\n",
    "dtmDf"
   ]
  },
  {
   "cell_type": "markdown",
   "id": "b4b1069b-4642-421f-b252-788e6240562b",
   "metadata": {},
   "source": [
    "## EDA - Most Common Word"
   ]
  },
  {
   "cell_type": "code",
   "execution_count": 21,
   "id": "dd8a0618-4ee4-428c-8fd2-f3e76c05b377",
   "metadata": {},
   "outputs": [
    {
     "data": {
      "text/plain": [
       "ice              2\n",
       "ice tea          2\n",
       "lemon           12\n",
       "lemon lemon      6\n",
       "lemonade         3\n",
       "market           3\n",
       "maven            2\n",
       "maven market     2\n",
       "tea              2\n",
       "dtype: int64"
      ]
     },
     "execution_count": 21,
     "metadata": {},
     "output_type": "execute_result"
    }
   ],
   "source": [
    "termFreq = dtmDf.sum()\n",
    "termFreq"
   ]
  },
  {
   "cell_type": "code",
   "execution_count": 26,
   "id": "af744179-9bd3-4956-a1f8-3bdcf7a8bec6",
   "metadata": {},
   "outputs": [
    {
     "data": {
      "image/png": "[encoded data removed]",
      "text/plain": [
       "<Figure size 640x480 with 1 Axes>"
      ]
     },
     "metadata": {},
     "output_type": "display_data"
    }
   ],
   "source": [
    "termFreq.sort_values().plot(kind=\"barh\");"
   ]
  },
  {
   "cell_type": "code",
   "execution_count": null,
   "id": "28b9ad08-0f30-4120-b55f-3d1947b80e5f",
   "metadata": {},
   "outputs": [],
   "source": []
  }
 ],
 "metadata": {
  "kernelspec": {
   "display_name": "Python 3 (ipykernel)",
   "language": "python",
   "name": "python3"
  },
  "language_info": {
   "codemirror_mode": {
    "name": "ipython",
    "version": 3
   },
   "file_extension": ".py",
   "mimetype": "text/x-python",
   "name": "python",
   "nbconvert_exporter": "python",
   "pygments_lexer": "ipython3",
   "version": "3.12.11"
  }
 },
 "nbformat": 4,
 "nbformat_minor": 5
}
